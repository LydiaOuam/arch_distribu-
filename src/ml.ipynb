{
 "cells": [
  {
   "cell_type": "code",
   "execution_count": 3,
   "id": "303acc7e-6f95-4b1c-9827-06eeda2e3d4a",
   "metadata": {
    "tags": []
   },
   "outputs": [],
   "source": [
    "from pyspark.ml.feature import MinMaxScaler, VectorAssembler, StringIndexer, StandardScaler, OneHotEncoder\n",
    "from pyspark.sql.functions import col\n",
    "from pyspark.sql import functions as f\n",
    "from pyspark.ml.regression import LinearRegression, GeneralizedLinearRegression\n",
    "from pyspark.ml.evaluation import BinaryClassificationEvaluator, RegressionEvaluator\n",
    "from pyspark.ml.tuning import ParamGridBuilder, CrossValidator"
   ]
  },
  {
   "cell_type": "markdown",
   "id": "79b7b115-8c71-499a-88b6-458996092e63",
   "metadata": {},
   "source": [
    "Ce modéle de ML estime les prix d'une voiture à partir de plusieurs caractéristiques"
   ]
  },
  {
   "cell_type": "code",
   "execution_count": 4,
   "id": "c662fa92-8230-4b9e-bf5d-dfe88699c154",
   "metadata": {
    "tags": []
   },
   "outputs": [],
   "source": [
    "from pyspark.sql import SparkSession\n",
    "spark = SparkSession.builder\\\n",
    "        .appName(\"SparkML\") \\\n",
    "        .config(\"spark.some.config.option\", \"some-value\")\\\n",
    "        .master(\"spark://0622870c1427:7077\") \\\n",
    "        .config(\"spark.executor.memory\", \"3g\") \\\n",
    "        .getOrCreate()"
   ]
  },
  {
   "cell_type": "code",
   "execution_count": 5,
   "id": "09305d78-ee13-4c49-bac1-c9ec85fa1140",
   "metadata": {},
   "outputs": [],
   "source": [
    "df2 = spark.read.option(\"header\",\"true\").option(\"delimiter\",',').csv(r\"../../data/archive-2\")"
   ]
  },
  {
   "cell_type": "code",
   "execution_count": 6,
   "id": "5d61bb60-8dad-47e3-9c93-2792d8bf74eb",
   "metadata": {
    "tags": []
   },
   "outputs": [
    {
     "name": "stdout",
     "output_type": "stream",
     "text": [
      "+-----+------------+----+-----+------------+-------+--------+---+----+----------+\n",
      "|model|manufacturer|year|price|transmission|mileage|fuelType|tax| mpg|engineSize|\n",
      "+-----+------------+----+-----+------------+-------+--------+---+----+----------+\n",
      "|    0|           0|   0|    0|           0|      0|       0|  0|9355|      9355|\n",
      "+-----+------------+----+-----+------------+-------+--------+---+----+----------+\n",
      "\n"
     ]
    }
   ],
   "source": [
    "# Columns with null values\n",
    "df2.select([f.count(f.when(f.isnan(c)|f.col(c).isNull(),c)).alias(c) for c in df2.columns]).show()"
   ]
  },
  {
   "cell_type": "code",
   "execution_count": 7,
   "id": "6976c116-3c1a-4020-ae19-56fbc1942488",
   "metadata": {
    "tags": []
   },
   "outputs": [],
   "source": [
    "#Deleting the all null values\n",
    "df2 = df2.na.drop()"
   ]
  },
  {
   "cell_type": "code",
   "execution_count": 8,
   "id": "8f66ea6c-7574-4da5-bfa1-9ca340319bfd",
   "metadata": {
    "tags": []
   },
   "outputs": [],
   "source": [
    "# Here i am deleting some raws that are headers (error occured when i did a concat to my datasets)\n",
    "df2 = df2.filter(col(\"model\") != \"model\")"
   ]
  },
  {
   "cell_type": "code",
   "execution_count": 9,
   "id": "64fc9e11-f6ff-4335-a925-1d9348244d5e",
   "metadata": {
    "tags": []
   },
   "outputs": [],
   "source": [
    "# Cast values to doubles\n",
    "df2 = df2.withColumn(\"mileage\", col(\"mileage\").cast(\"double\"))\n",
    "df2 = df2.withColumn(\"tax\", col(\"tax\").cast(\"double\"))\n",
    "df2 = df2.withColumn(\"mpg\", col(\"mpg\").cast(\"double\"))\n",
    "df2 = df2.withColumn(\"engineSize\", col(\"engineSize\").cast(\"double\"))\n",
    "df2 = df2.withColumn(\"price\", col(\"price\").cast(\"double\"))\n",
    "df2 = df2.withColumn(\"year\", col(\"year\").cast(\"double\"))"
   ]
  },
  {
   "cell_type": "code",
   "execution_count": 10,
   "id": "cd54ce2e-19e9-43f6-9a09-ca6694ce4b39",
   "metadata": {
    "tags": []
   },
   "outputs": [],
   "source": [
    "#String Indexer for String values\n",
    "\n",
    "# Convert categorical features to numerical categories using StringIndexer\n",
    "categorical_features = [\"model\", \"manufacturer\", \"transmission\", \"fuelType\"]\n",
    "indexers = [StringIndexer(inputCol=cat_col, outputCol=cat_col+'_index') for cat_col in categorical_features]\n",
    "models =[ index.fit(df2) for index in indexers]\n",
    "for model in models:\n",
    "    df2 = model.transform(df2)"
   ]
  },
  {
   "cell_type": "code",
   "execution_count": 11,
   "id": "c70a5307-b9db-4ca0-ab9d-a380a1b4c0e2",
   "metadata": {
    "tags": []
   },
   "outputs": [],
   "source": [
    "# Prepare vecors of features\n",
    "myData = df2[\"model_index\",\"manufacturer_index\" ,\"transmission_index\",\"fuelType_index\",\"tax\",\"mpg\",\"year\",\"mileage\",\"price\"]\n",
    "# Assemble input features into a vector\n",
    "assembler = VectorAssembler(inputCols=[ \"model_index\",\"manufacturer_index\",\"transmission_index\",\"fuelType_index\",\"tax\",\"year\",\"mpg\",\"mileage\"], outputCol='features',handleInvalid=\"skip\")"
   ]
  },
  {
   "cell_type": "code",
   "execution_count": 12,
   "id": "cd022c91-72f4-4dfa-9446-a4b1964e581a",
   "metadata": {},
   "outputs": [],
   "source": [
    "output = assembler.transform(myData)"
   ]
  },
  {
   "cell_type": "code",
   "execution_count": 13,
   "id": "77d93873-faa0-4e44-9378-d33e5778bbc5",
   "metadata": {
    "tags": []
   },
   "outputs": [
    {
     "name": "stdout",
     "output_type": "stream",
     "text": [
      "+-----------+------------------+------------------+--------------+-----+----+------+-------+-------+--------------------+\n",
      "|model_index|manufacturer_index|transmission_index|fuelType_index|  tax| mpg|  year|mileage|  price|            features|\n",
      "+-----------+------------------+------------------+--------------+-----+----+------+-------+-------+--------------------+\n",
      "|        0.0|               0.0|               2.0|           0.0|150.0|57.7|2017.0|15944.0|12000.0|[0.0,0.0,2.0,0.0,...|\n",
      "|        2.0|               0.0|               0.0|           0.0|150.0|57.7|2018.0| 9083.0|14000.0|[2.0,0.0,0.0,0.0,...|\n",
      "|        2.0|               0.0|               0.0|           0.0|150.0|57.7|2017.0|12456.0|13000.0|[2.0,0.0,0.0,0.0,...|\n",
      "|        0.0|               0.0|               0.0|           0.0|145.0|40.3|2019.0|10460.0|17500.0|(8,[4,5,6,7],[145...|\n",
      "|        0.0|               0.0|               2.0|           0.0|145.0|48.7|2019.0| 1482.0|16500.0|[0.0,0.0,2.0,0.0,...|\n",
      "|        0.0|               0.0|               0.0|           0.0|145.0|47.9|2015.0|35432.0|10500.0|(8,[4,5,6,7],[145...|\n",
      "|      119.0|               0.0|               0.0|           0.0|145.0|50.4|2019.0| 2029.0|22500.0|[119.0,0.0,0.0,0....|\n",
      "|        0.0|               0.0|               0.0|           0.0|145.0|54.3|2017.0|13054.0| 9000.0|(8,[4,5,6,7],[145...|\n",
      "|        9.0|               0.0|               2.0|           1.0|145.0|42.2|2019.0| 6894.0|25500.0|[9.0,0.0,2.0,1.0,...|\n",
      "|        2.0|               0.0|               0.0|           0.0|145.0|61.4|2018.0|48141.0|10000.0|[2.0,0.0,0.0,0.0,...|\n",
      "|        0.0|               0.0|               0.0|           0.0|145.0|56.5|2018.0|18803.0|11561.0|(8,[4,5,6,7],[145...|\n",
      "|       24.0|               0.0|               0.0|           0.0|145.0|54.3|2018.0|12065.0|13500.0|[24.0,0.0,0.0,0.0...|\n",
      "|        0.0|               0.0|               0.0|           0.0|  0.0|65.7|2017.0|20978.0|11000.0|(8,[5,6,7],[2017....|\n",
      "|        9.0|               0.0|               1.0|           1.0|145.0|54.3|2018.0| 9002.0|17999.0|[9.0,0.0,1.0,1.0,...|\n",
      "|        9.0|               0.0|               1.0|           1.0|145.0|58.9|2018.0| 8970.0|18999.0|[9.0,0.0,1.0,1.0,...|\n",
      "|        9.0|               0.0|               0.0|           1.0|145.0|64.2|2018.0|12810.0|14399.0|[9.0,0.0,0.0,1.0,...|\n",
      "|        9.0|               0.0|               0.0|           1.0|145.0|38.2|2019.0|10428.0|17999.0|[9.0,0.0,0.0,1.0,...|\n",
      "|        9.0|               0.0|               0.0|           1.0|145.0|54.3|2018.0|14680.0|16899.0|[9.0,0.0,0.0,1.0,...|\n",
      "|        0.0|               0.0|               0.0|           0.0| 20.0|62.8|2017.0|12427.0|10999.0|(8,[4,5,6,7],[20....|\n",
      "|        0.0|               0.0|               0.0|           0.0|145.0|55.4|2019.0|25521.0|12500.0|(8,[4,5,6,7],[145...|\n",
      "+-----------+------------------+------------------+--------------+-----+----+------+-------+-------+--------------------+\n",
      "only showing top 20 rows\n",
      "\n"
     ]
    }
   ],
   "source": [
    "output.show()"
   ]
  },
  {
   "cell_type": "code",
   "execution_count": 14,
   "id": "9f9303fe-9885-4dc7-801b-decf5313f5b7",
   "metadata": {
    "tags": []
   },
   "outputs": [],
   "source": [
    "#Normalize data with a MinMax Scaler \n",
    "scaler = MinMaxScaler(inputCol=\"features\", outputCol=\"featuresNormalized\")\n",
    "# Compute summary statistics and generate MinMaxScalerModel\n",
    "scalerModel = scaler.fit(output)"
   ]
  },
  {
   "cell_type": "code",
   "execution_count": 15,
   "id": "7403e984-08b3-412f-9a61-bea8ea290701",
   "metadata": {
    "tags": []
   },
   "outputs": [],
   "source": [
    "# rescale each feature to range [min, max].\n",
    "scaledData = scalerModel.transform(output)"
   ]
  },
  {
   "cell_type": "code",
   "execution_count": 16,
   "id": "0a186c86-8835-4d4e-b050-1103e4b4f4ff",
   "metadata": {
    "tags": []
   },
   "outputs": [
    {
     "name": "stdout",
     "output_type": "stream",
     "text": [
      "+--------------------------------------------+------------------------------------------------------------------------------------------------------------------+\n",
      "|features                                    |featuresNormalized                                                                                                |\n",
      "+--------------------------------------------+------------------------------------------------------------------------------------------------------------------+\n",
      "|[0.0,0.0,2.0,0.0,150.0,2017.0,57.7,15944.0] |[0.0,0.0,0.6666666666666666,0.0,0.25862068965517243,0.5222222222222223,0.12199787460148778,0.049359285942061744]  |\n",
      "|[2.0,0.0,0.0,0.0,150.0,2018.0,57.7,9083.0]  |[0.010309278350515464,0.0,0.0,0.0,0.25862068965517243,0.5333333333333333,0.12199787460148778,0.028117734110631922]|\n",
      "|[2.0,0.0,0.0,0.0,150.0,2017.0,57.7,12456.0] |[0.010309278350515464,0.0,0.0,0.0,0.25862068965517243,0.5222222222222223,0.12199787460148778,0.03856049089935263] |\n",
      "|(8,[4,5,6,7],[145.0,2019.0,40.3,10460.0])   |(8,[4,5,6,7],[0.25,0.5444444444444445,0.08501594048884165,0.03238090520404088])                                   |\n",
      "|[0.0,0.0,2.0,0.0,145.0,2019.0,48.7,1482.0]  |[0.0,0.0,0.6666666666666666,0.0,0.25,0.5444444444444445,0.10286928799149841,0.004585153514407165]                 |\n",
      "|(8,[4,5,6,7],[145.0,2015.0,47.9,35432.0])   |(8,[4,5,6,7],[0.25,0.5,0.10116896918172157,0.10969383806141815])                                                  |\n",
      "|[119.0,0.0,0.0,0.0,145.0,2019.0,50.4,2029.0]|[0.6134020618556701,0.0,0.0,0.0,0.25,0.5444444444444445,0.10648246546227418,0.006278657209465045]                 |\n",
      "|(8,[4,5,6,7],[145.0,2017.0,54.3,13054.0])   |(8,[4,5,6,7],[0.25,0.5222222222222223,0.11477151965993623,0.04041188982009232])                                   |\n",
      "|[9.0,0.0,2.0,1.0,145.0,2019.0,42.2,6894.0]  |[0.04639175257731959,0.0,0.6666666666666666,0.25,0.25,0.5444444444444445,0.08905419766206164,0.021340623345583114]|\n",
      "|[2.0,0.0,0.0,0.0,145.0,2018.0,61.4,48141.0] |[0.010309278350515464,0.0,0.0,0.0,0.25,0.5333333333333333,0.12986184909670562,0.14904070910436254]                |\n",
      "|(8,[4,5,6,7],[145.0,2018.0,56.5,18803.0])   |(8,[4,5,6,7],[0.25,0.5333333333333333,0.11944739638682253,0.05821070653469516])                                   |\n",
      "|[24.0,0.0,0.0,0.0,145.0,2018.0,54.3,12065.0]|[0.12371134020618557,0.0,0.0,0.0,0.25,0.5333333333333333,0.11477151965993623,0.03734996083579206]                 |\n",
      "|(8,[5,6,7],[2017.0,65.7,20978.0])           |(8,[5,6,7],[0.5222222222222223,0.1390010626992561,0.0649444735123019])                                            |\n",
      "|[9.0,0.0,1.0,1.0,145.0,2018.0,54.3,9002.0]  |[0.04639175257731959,0.0,0.3333333333333333,0.25,0.25,0.5333333333333333,0.11477151965993623,0.027866959340431395]|\n",
      "|[9.0,0.0,1.0,1.0,145.0,2018.0,58.9,8970.0]  |[0.04639175257731959,0.0,0.3333333333333333,0.25,0.25,0.5333333333333333,0.12454835281615302,0.0277678878262781]  |\n",
      "|[9.0,0.0,0.0,1.0,145.0,2018.0,64.2,12810.0] |[0.04639175257731959,0.0,0.0,0.25,0.25,0.5333333333333333,0.13581296493092454,0.03965646952467345]                |\n",
      "|[9.0,0.0,0.0,1.0,145.0,2019.0,38.2,10428.0] |[0.04639175257731959,0.0,0.0,0.25,0.25,0.5444444444444445,0.08055260361317748,0.03228183368988759]                |\n",
      "|[9.0,0.0,0.0,1.0,145.0,2018.0,54.3,14680.0] |[0.04639175257731959,0.0,0.0,0.25,0.25,0.5333333333333333,0.11477151965993623,0.045445961133006606]               |\n",
      "|(8,[4,5,6,7],[20.0,2017.0,62.8,12427.0])    |(8,[4,5,6,7],[0.034482758620689655,0.5222222222222223,0.13283740701381508,0.03847070733965121])                   |\n",
      "|(8,[4,5,6,7],[145.0,2019.0,55.4,25521.0])   |(8,[4,5,6,7],[0.25,0.5444444444444445,0.11710945802337938,0.07900953253725244])                                   |\n",
      "+--------------------------------------------+------------------------------------------------------------------------------------------------------------------+\n",
      "only showing top 20 rows\n",
      "\n"
     ]
    }
   ],
   "source": [
    "#print(\"Features scaled to range: [%f, %f]\" % (scaler.getMin(), scaler.getMax()))\n",
    "scaledData.select(\"features\",\"featuresNormalized\").show(truncate = False )"
   ]
  },
  {
   "cell_type": "code",
   "execution_count": 17,
   "id": "73833710-5390-4e69-9669-c4a829403eed",
   "metadata": {
    "tags": []
   },
   "outputs": [],
   "source": [
    "# Split my data (i am using seed to ensure that every time i test again i have the same dataset)\n",
    "train_data, test_data = scaledData.randomSplit([0.7, 0.3], seed=1234)"
   ]
  },
  {
   "cell_type": "markdown",
   "id": "61455388-cd29-41b6-ad84-532357c4892d",
   "metadata": {},
   "source": [
    "#### Here i am trying to use LinearRegression to predict prices of cars, we will figure out later that linearRegression give us negatif values, which is not good since we are predicting prices\n",
    "#### So we will need to try another type of regression which does not give negativ values"
   ]
  },
  {
   "cell_type": "code",
   "execution_count": 59,
   "id": "6c75406f-6647-4cec-bdec-8ced18efd379",
   "metadata": {
    "tags": []
   },
   "outputs": [],
   "source": [
    "lr = LinearRegression(featuresCol=\"features\", labelCol=\"price\")"
   ]
  },
  {
   "cell_type": "code",
   "execution_count": 60,
   "id": "cbed7699-6c52-4038-911a-9352ccc288f7",
   "metadata": {
    "tags": []
   },
   "outputs": [],
   "source": [
    "paramGrid = (ParamGridBuilder()\n",
    "             .addGrid(lr.regParam, [0.001, 0.01, 0.1])\n",
    "             .addGrid(lr.elasticNetParam, [0.0, 0.25, 0.5])\n",
    "             .addGrid(lr.maxIter, [1, 5, 10])\n",
    "             .build())"
   ]
  },
  {
   "cell_type": "code",
   "execution_count": 61,
   "id": "d561b127-37f3-4706-8f0e-808bbd468e4f",
   "metadata": {
    "tags": []
   },
   "outputs": [],
   "source": [
    "# Define evaluator\n",
    "evaluator = RegressionEvaluator(metricName=\"rmse\",labelCol = \"price\")\n",
    "\n",
    "# Define cross-validator\n",
    "cv = CrossValidator(estimator=lr, estimatorParamMaps=paramGrid, evaluator=evaluator, numFolds=3)\n",
    "\n",
    "# Fit cross-validator to training data\n",
    "cvModel = cv.fit(train_data)\n",
    "\n",
    "# Make predictions on test data\n",
    "predictions = cvModel.bestModel.transform(test_data)\n",
    "# Evaluate performance on test data\n",
    "rmse = evaluator.evaluate(predictions)"
   ]
  },
  {
   "cell_type": "markdown",
   "id": "9604ea62-2939-4f0c-9246-036ac77f62af",
   "metadata": {
    "tags": []
   },
   "source": [
    "#### Plot predicted values and real ones to see \n",
    "#### Note that the blue ones are prdicted prices and  red ones are real prices"
   ]
  },
  {
   "cell_type": "markdown",
   "id": "5c678449-b025-47eb-8d06-0fc3ee5d47cb",
   "metadata": {},
   "source": [
    "#### To evaluate this model i choosed to use the R-squared (the coefficient of determination)\n",
    "#### This coeffeicent mean that x% of the variation of the price of a car is determined by all of those features and the rest are due to factors that are not in the model\n",
    "#### RMSE is the off deviation between the real value and the  predicted one by the model, It indicates how spread out the data is around the line of best fit.\n"
   ]
  },
  {
   "cell_type": "code",
   "execution_count": 62,
   "id": "887dc016-8d6e-4c9e-9b1f-b3000cd6a05f",
   "metadata": {
    "tags": []
   },
   "outputs": [
    {
     "data": {
      "image/png": "[encoded data removed]",
      "text/plain": [
       "<Figure size 640x480 with 1 Axes>"
      ]
     },
     "metadata": {},
     "output_type": "display_data"
    }
   ],
   "source": [
    "import matplotlib.pyplot as plt\n",
    "import numpy as np\n",
    "\n",
    "predicted = predictions.select('prediction')\n",
    "real = predictions.select('price')\n",
    "\n",
    "predicted =  np.array(predictions.select('prediction').collect())\n",
    "\n",
    "real =  np.array(predictions.select('price').collect())\n",
    "\n",
    "plt.scatter(range(len(predicted)), predicted, color='blue')\n",
    "plt.scatter(range(len(real)), real, color='red')\n",
    "\n",
    "plt.show()"
   ]
  },
  {
   "cell_type": "code",
   "execution_count": 63,
   "id": "6fafb188-f360-4e81-9523-189da5945857",
   "metadata": {
    "tags": []
   },
   "outputs": [
    {
     "name": "stdout",
     "output_type": "stream",
     "text": [
      "61.11261634935515\n"
     ]
    }
   ],
   "source": [
    "differences =   real - predicted\n",
    "mean_diff = np.mean(differences)\n",
    "print(mean_diff)"
   ]
  },
  {
   "cell_type": "code",
   "execution_count": 64,
   "id": "e5e1f05e-a0fa-420d-9b33-7d16eae567f0",
   "metadata": {
    "tags": []
   },
   "outputs": [
    {
     "name": "stdout",
     "output_type": "stream",
     "text": [
      "R-squared = 0.532371\n"
     ]
    }
   ],
   "source": [
    "# Evaluate the model using the R-squared metric\n",
    "evaluator = RegressionEvaluator(metricName=\"r2\",labelCol = \"price\")\n",
    "r2 = evaluator.evaluate(predictions)\n",
    "\n",
    "# Print the R-squared metric\n",
    "print(\"R-squared = %g\" % r2)"
   ]
  },
  {
   "cell_type": "code",
   "execution_count": 65,
   "id": "83aff723-45c1-448e-8115-94eebfd209ea",
   "metadata": {
    "tags": []
   },
   "outputs": [
    {
     "data": {
      "text/plain": [
       "29749"
      ]
     },
     "execution_count": 65,
     "metadata": {},
     "output_type": "execute_result"
    }
   ],
   "source": [
    "test_data.count()"
   ]
  },
  {
   "cell_type": "code",
   "execution_count": 66,
   "id": "d23ef590-105f-4d08-9e75-d843489d6b58",
   "metadata": {
    "tags": []
   },
   "outputs": [
    {
     "name": "stdout",
     "output_type": "stream",
     "text": [
      "RMSE:  6803.519355199761\n"
     ]
    }
   ],
   "source": [
    "# Evaluate the model using MSE\n",
    "evaluator = RegressionEvaluator(labelCol=\"price\", predictionCol=\"prediction\", metricName=\"rmse\")\n",
    "mse = evaluator.evaluate(predictions)\n",
    "\n",
    "# Print the MSE value\n",
    "print(\"RMSE: \", mse)"
   ]
  },
  {
   "cell_type": "code",
   "execution_count": 67,
   "id": "58c021fb-23d1-4a95-8b8f-70c0f9488c8a",
   "metadata": {
    "tags": []
   },
   "outputs": [],
   "source": [
    "#Here it is, we are trying the poissonRegression, this one will not give us negatif values\n"
   ]
  },
  {
   "cell_type": "code",
   "execution_count": 18,
   "id": "2f1f0662-46c7-45b1-8300-49b5d7b0768f",
   "metadata": {},
   "outputs": [],
   "source": [
    "# Define the Poisson regression model\n",
    "poisson_model = GeneralizedLinearRegression(family=\"poisson\", link=\"log\", maxIter=10, regParam=0.3,featuresCol = \"features\",labelCol = \"price\")\n"
   ]
  },
  {
   "cell_type": "code",
   "execution_count": 19,
   "id": "1d23e701-7880-4cd5-afe3-1e06f10bed46",
   "metadata": {},
   "outputs": [],
   "source": [
    "# Train the Poisson regression model\n",
    "poisson_fit = poisson_model.fit(train_data)"
   ]
  },
  {
   "cell_type": "code",
   "execution_count": 20,
   "id": "be5ade89-ce45-4203-a5b2-3a0b7bea530a",
   "metadata": {
    "tags": []
   },
   "outputs": [],
   "source": [
    "predictions = poisson_fit.transform(test_data)"
   ]
  },
  {
   "cell_type": "code",
   "execution_count": 21,
   "id": "081d23e0-45f2-4879-a401-63ebca0f9578",
   "metadata": {
    "tags": []
   },
   "outputs": [
    {
     "data": {
      "image/png": "[encoded data removed]",
      "text/plain": [
       "<Figure size 640x480 with 1 Axes>"
      ]
     },
     "metadata": {},
     "output_type": "display_data"
    }
   ],
   "source": [
    "import matplotlib.pyplot as plt\n",
    "import numpy as np\n",
    "\n",
    "predicted = predictions.select('prediction')\n",
    "real = predictions.select('price')\n",
    "\n",
    "predicted =  np.array(predictions.select('prediction').collect())\n",
    "\n",
    "real =  np.array(predictions.select('price').collect())\n",
    "\n",
    "plt.scatter(range(len(predicted)), predicted, color='blue')\n",
    "plt.scatter(range(len(real)), real, color='red')\n",
    "\n",
    "plt.show()"
   ]
  },
  {
   "cell_type": "code",
   "execution_count": 22,
   "id": "bcbfa287-c441-4b40-b2a7-c5cb386b7f64",
   "metadata": {
    "tags": []
   },
   "outputs": [
    {
     "name": "stdout",
     "output_type": "stream",
     "text": [
      "R-squared = 0.585025\n"
     ]
    }
   ],
   "source": [
    "# Evaluate the model using the R-squared metric\n",
    "evaluator = RegressionEvaluator(metricName=\"r2\",labelCol = \"price\")\n",
    "r2 = evaluator.evaluate(predictions)\n",
    "\n",
    "# Print the R-squared metric\n",
    "print(\"R-squared = %g\" % r2)"
   ]
  },
  {
   "cell_type": "code",
   "execution_count": 23,
   "id": "69255547-cfc8-49ba-9994-bae54382065d",
   "metadata": {},
   "outputs": [
    {
     "name": "stdout",
     "output_type": "stream",
     "text": [
      "RMSE:  6409.053186042661\n"
     ]
    }
   ],
   "source": [
    "# Evaluate the model using MSE\n",
    "evaluator = RegressionEvaluator(labelCol=\"price\", predictionCol=\"prediction\", metricName=\"rmse\")\n",
    "mse = evaluator.evaluate(predictions)\n",
    "\n",
    "# Print the MSE value\n",
    "print(\"RMSE: \", mse)"
   ]
  },
  {
   "cell_type": "code",
   "execution_count": 24,
   "id": "6a96fa2d-218c-496d-9fd5-34543926cfe8",
   "metadata": {
    "tags": []
   },
   "outputs": [
    {
     "name": "stdout",
     "output_type": "stream",
     "text": [
      "44.92881541663\n"
     ]
    }
   ],
   "source": [
    "differences =   real - predicted\n",
    "mean_diff = np.mean(differences)\n",
    "print(mean_diff)"
   ]
  },
  {
   "cell_type": "code",
   "execution_count": 25,
   "id": "43325f85-e7a0-486b-adcc-b35d86245fd7",
   "metadata": {
    "tags": []
   },
   "outputs": [],
   "source": [
    "## Save the pickle file"
   ]
  },
  {
   "cell_type": "code",
   "execution_count": 32,
   "id": "9e705877-ca42-45b6-acc9-cfb6bcbe9518",
   "metadata": {
    "tags": []
   },
   "outputs": [
    {
     "name": "stdout",
     "output_type": "stream",
     "text": [
      "/home/jovyan\n"
     ]
    }
   ],
   "source": [
    "cd"
   ]
  },
  {
   "cell_type": "code",
   "execution_count": 31,
   "id": "d59637de-bf1c-469a-9502-85ab1de39776",
   "metadata": {
    "tags": []
   },
   "outputs": [],
   "source": [
    "\n",
    "model_path = \"../../src/mymodel.parquet\"\n",
    "poisson_fit.save(model_path)\n"
   ]
  },
  {
   "cell_type": "code",
   "execution_count": 1,
   "id": "9e0ffaca-7f9e-4637-966b-d40038cf3c20",
   "metadata": {},
   "outputs": [],
   "source": [
    "### Create the pipeline and save the model"
   ]
  },
  {
   "cell_type": "code",
   "execution_count": null,
   "id": "edc9f417-0040-484f-8e21-07fcc4d3ca02",
   "metadata": {},
   "outputs": [],
   "source": [
    "pipeline = [categorical_features, indexers,models, myData, assembler, output, scaler, scalerModel, scaledData]"
   ]
  }
 ],
 "metadata": {
  "kernelspec": {
   "display_name": "Python 3 (ipykernel)",
   "language": "python",
   "name": "python3"
  },
  "language_info": {
   "codemirror_mode": {
    "name": "ipython",
    "version": 3
   },
   "file_extension": ".py",
   "mimetype": "text/x-python",
   "name": "python",
   "nbconvert_exporter": "python",
   "pygments_lexer": "ipython3",
   "version": "3.10.9"
  }
 },
 "nbformat": 4,
 "nbformat_minor": 5
}
